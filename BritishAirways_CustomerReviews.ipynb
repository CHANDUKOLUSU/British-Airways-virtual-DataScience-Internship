{
 "cells": [
  {
   "cell_type": "code",
   "execution_count": 1,
   "id": "efc46235",
   "metadata": {},
   "outputs": [],
   "source": [
    "import pandas as pd\n",
    "import requests\n",
    "from bs4 import BeautifulSoup"
   ]
  },
  {
   "cell_type": "code",
   "execution_count": 2,
   "id": "6f745804",
   "metadata": {},
   "outputs": [],
   "source": [
    "url = 'https://www.airlinequality.com/airline-reviews/british-airways'"
   ]
  },
  {
   "cell_type": "code",
   "execution_count": 3,
   "id": "fb2be3b9",
   "metadata": {},
   "outputs": [],
   "source": [
    "page = requests.get(url)"
   ]
  },
  {
   "cell_type": "code",
   "execution_count": 4,
   "id": "19e002af",
   "metadata": {},
   "outputs": [],
   "source": [
    "soup = BeautifulSoup(page.text, 'lxml')"
   ]
  },
  {
   "cell_type": "code",
   "execution_count": 5,
   "id": "76a7f534",
   "metadata": {
    "scrolled": true
   },
   "outputs": [
    {
     "data": {
      "text/plain": [
       "[<div class=\"text_content\" itemprop=\"reviewBody\"><strong><a href=\"https://www.airlinequality.com/verified-reviews/\"><em>Not Verified</em></a></strong> | I wanted to write this review so I could give a huge thank you to one of the staff on Lisbon named Jay Ramphul. She went above and beyond and really helped me in an urgent situation. I had boarded my flight with 20 minutes before take off when I realized I had left my cell phone in the club lounge. I was not going to get permission to deboard and get back on in time for take off. Jay stepped in and made it happened. She literally ran with me a far distance to retrieve my phone with me and get me back on the plane within minutes of take off. This is true service! I don't know if this review will ever get back to her or her management, but I hope it does. I want to again express my gratitude for her help and kindness in this matter.</div>,\n",
       " <div class=\"text_content\" itemprop=\"reviewBody\">✅ <strong><a href=\"https://www.airlinequality.com/verified-reviews/\"><em>Trip Verified</em></a></strong> |  Check in fast and friendly. Security a breeze. Lounge was busy early evening but comfortable and clean. Flight attendants welcoming. Seat a nightmare it was the reverse/forward with a step over from the window seat, who the hell thought that was a good idea?? Meal were OK but all curry based, like curry and I was on a flight to India so. FA was brilliant as the only flyer awake on an overnight flight. Improving since my last BA flight</div>,\n",
       " <div class=\"text_content\" itemprop=\"reviewBody\">✅ <strong><a href=\"https://www.airlinequality.com/verified-reviews/\"><em>Trip Verified</em></a></strong> |  This is the first time I have seen the new Club World suite. The seat was comfortable but unlike other airlines, BA has crammed as many seats in business class as is humanly possible so the cabin felt cramped. The crew behaved as though we, the passengers, should have been grateful for them turning up for their shift. They looked scruffy in the new uniforms, clearly the dress code policy has been scrapped. I appreciate that appearance is no measure of service quality (in the UK alone) but the service was appalling. The menu lacked choice and the food was presented as if it fell to the floor and was scooped back onto the plate. The bedding was atrocious, an old scraggly blanket and I’ll fitting seat cover. I was cold and asked for an extra blanket which never arrived. There were no drinks coasters (obviously cutbacks) so my drinks kept spilling. I decided to clean up myself as the crew couldn’t be bothered and didn’t pick up on the fact I was using bathroom hand towels to act as drinks coasters to mop up the mess. The aircraft was old (although retrofitted) and had a leak by the galley wall with lots of blue roll in situ to mop up the mess. Not at all a premium service, this felt more like a low cost carrier doing “business”.</div>,\n",
       " <div class=\"text_content\" itemprop=\"reviewBody\">✅ <strong><a href=\"https://www.airlinequality.com/verified-reviews/\"><em>Trip Verified</em></a></strong> |  Flew business class from Doha to London on 31st March. The service was slow and unfriendly, even one of the male cabin crew working in business class asked the female cabin crew who was looking after the area where I was in to smile. I ordered waffles for breakfast and they looked like they’d fallen off the plate and had been thrown back on (see photo). The plate that the waffles were served on was so hot that when I moved the plate I burnt my finger. I wasn’t warned that it was ferociously hot. I was shocked at how bad the food presentation was, but didn’t feel comfortable saying anything to the cabin crew as she wasn’t approachable or friendly. For lunch, the bread roll was so dry and rock hard that I couldn’t cut through the ends. Not sure why the food and service was so bad on this flight as generally BA food is good and is well presented. Also, the Wi-Fi wasn’t working on the flight.</div>,\n",
       " <div class=\"text_content\" itemprop=\"reviewBody\">✅ <strong><a href=\"https://www.airlinequality.com/verified-reviews/\"><em>Trip Verified</em></a></strong> |  Starting off at Heathrow Terminal 3. Check in was fairly easy, but fast track security was terrible. The area is currently under refurbishment but there are only two scanning machines in the fast track area and at this time only one was in use so the queue was long and very slow moving. I’ve heard mixed things about the BA club lounge, but I was fairly impressed. Food options were fairly varied and tasted really nice. Nice salads as well as pie and veg. Drinks as always in BA lounges are very easy to lay your hands on and cater for most wants. Lounge was a decent size with various seating options and wasn’t very busy at the time I went (Sunday evening). Boarding was well organised and club passengers / higher tiers was boarded quickly and easily. Amenity kit, bottle of water and bedding were waiting at the seat. Welcome drinks were provided fairly quickly after sitting down. Hot towel provided after take off, shortly followed by drink and nuts. As has been regularly said these nuts would be infinitely better if served properly not in a very small packet. Food service on board consisted of a main dinner service which was served 1-2 hrs after take off, then a breakfast meal before landing. Both meals were genuinely delicious. All meats were tender and juicy and very was perfectly cooked. Drinks were provided whenever asked, although crew were too busy serving all passengers to proactively offer top ups. Breakfast was offered to passengers as they woke up, which meant that people ate when they wanted rather than just in order.. almost but not quite like a la carte dining. Crew were friendly and efficient, with some nice personality coming through. This is fairly standard of my experience with BA. In flight entertainment was excellent. Good screen quality. Responsive touch screen. Excellent selection. I did not use the WiFi however it was available on this aircraft and prices are reasonable I think. The seat is generally very comfortable and the storage compartments are convenient and spacious enough. The crew on my aisle side of the plane forgot to unlock all the doors so people had to work out how to do it themselves or periodically request the crew to do it for them. Whilst you can never complain about a fully flat bed, the reverse herringbone layout does make the footwell a bit cramped and also means it’s a lot more comfortable to lie on one side rather than the other (facing away from the door). I did manage a few hours of sleep though so not too bad. Overall a really lovely flight and absolutely holding its own as a decent business class product/service.</div>,\n",
       " <div class=\"text_content\" itemprop=\"reviewBody\"><strong><a href=\"https://www.airlinequality.com/verified-reviews/\"><em>Not Verified</em></a></strong> |  We have flown this route with EasyJet regularly for more than twenty years but at the age of 80, boarding at Nice has become so chaotic and wearing l decided to pay the significant extra amount to see if BA was better. The outward flight from Heathrow was not great but acceptable but when l attempted to checkin for the return l discovered that we did not have a booking. At the time l booked l was recovering from a serious illness and assumed that l must have made a mistake. After considerable panic, l booked last minute flights at considerable cost with EasyJet, boarding being the usual shambles. Flying into Gatwick rather than Heathrow the only way to get home was a £120 taxi rather than a £2 bus fare from Heathrow. On arrival home l discovered that I did have an email confirmation of the return flight from BA, so immediately contacted them to complain and ask for financial compensation. In the two weeks since they have sent two apologies for their slow response but nothing else so far. We have elderly friends who say that they now find travelling with British Airways so stressful that they will not travel outside the UK again. This will help the environment but it seems remarkable that the airline industry in the UK has deteriorated to this extent. Unfortunately JAL or Singapore, both of which l have used happily over many years, do not fly within Europe.</div>,\n",
       " <div class=\"text_content\" itemprop=\"reviewBody\">✅ <strong><a href=\"https://www.airlinequality.com/verified-reviews/\"><em>Trip Verified</em></a></strong> | A last minute business trip to HND, a route I regularly fly. Overall a good experience. In the new club world offering which personally I like and find to have plenty of room although some say it is a little tight. I arrived LHR in plenty of time and used the first class wing as I am eligible due to exec club status. Great to see the security lane reopen and efficient due to the new \"no need to empty your bag\" scanners. Additionally the first class lounge was not as busy as usual so a nice experience. Boarding was from gate A10 by bus, probably the least enjoyable part of the journey. It's not uncommon for this flight to use A10 which baffles me as such a large number of passengers need to take the not so scenic journey past all the A gates, B gates and finally C gates before arriving at the aircraft. Even passing a few empty airbridge gates on route. Boarding was not well organised with no real announcements. They started checking in peoples bags and pre-boarding with no announcement which then confused people who thought it was general boarding and started moving forward. Group 1 was then opened before I got to the front on the queue Group 2 &amp; 3 began boarding from a separate line and there were too many people waiting to board the buss so not enough room. Once onboard the aircraft was clean and I like the IFE offering in the new club world. Unfortunately I didn't find the crew particularly welcoming or engaging. I know its a lot of passengers and a long flight but there was not much smiling or customer service. At one point I had to walk through the galley to the toilet, on return 3 crew members were talking, one in particular was blocking my way and after looking at me proceeded to continue and didn't offer to et me past, eventually the inflight manager moved him to one side so I can pass. On another occasion I went to request a drink and was effectively scowled at in a look that felt like \"what do you want and why are you disturbing me\". Other than those points a generally good flight and on time arrival to HND.</div>,\n",
       " <div class=\"text_content\" itemprop=\"reviewBody\">✅ <strong><a href=\"https://www.airlinequality.com/verified-reviews/\"><em>Trip Verified</em></a></strong> |   Overall I would say disappointing. Due to BA status I had lounge access, on the small side and very busy. The aircraft used a remote gate, boarding was not well organised by group status as it should be but I did manage to make my way onto the first bus of 3. On arrival at the aircraft the plane was still being prepared so we had to wait on the bus. After 10 minutes or so everyone was becoming a little irritable. As it turns out the inbound flight had a number of complex wheelchair passengers that needed assistance which was delayed and took a long amount of time when it did arrive. After 35 minutes waiting on the bus we finally boarded the aircraft. The Captain apologised for the delay, no mention from the crew. Seat was standard Euro Traveller, the service was okay but the crew were not particularly engaging. When I tried to order a coffee due to the seatbelt sign being on as a result of some minor turbulence I was told it wouldn't be possible. As the crew member reached two rows behind be the seatbelt sign was turned off but they didn't come back to ask if I would still like a coffee. Overall we arrived into LHR 1 hour late. No tug to move the aircraft in Lisbon and had to wait for the gate in LHR. Disappointing but not the worst flight I have had.</div>,\n",
       " <div class=\"text_content\" itemprop=\"reviewBody\"><strong><a href=\"https://www.airlinequality.com/verified-reviews/\"><em>Not Verified</em></a></strong> |  LHR to Delhi in Business. Exceptional flight. Stylish and quirky B Gates lounge with interesting, modern and eclectic food plus Whispering Angel bar. Food on board was delicious and well presented. Friendly, fun, relaxed crew with a blend of deference, self-deprecation and over familiarity. Been flying BA for 35 years in various classes, and this was probably the best. Great job BA!</div>,\n",
       " <div class=\"text_content\" itemprop=\"reviewBody\"><strong><a href=\"https://www.airlinequality.com/verified-reviews/\"><em>Not Verified</em></a></strong> |  Efficient and Smooth flight from start to finish. Cabin crew attentive and bubbly. Very clean aircraft. Mcvities snacks a nice touch, and even the coffee in a bag was unexpectedly nice. Everything to praise, and nothing to complain about!</div>]"
      ]
     },
     "execution_count": 5,
     "metadata": {},
     "output_type": "execute_result"
    }
   ],
   "source": [
    "soup.find_all('div', class_ = 'text_content')"
   ]
  },
  {
   "cell_type": "code",
   "execution_count": 6,
   "id": "26887362",
   "metadata": {
    "scrolled": true
   },
   "outputs": [
    {
     "data": {
      "text/plain": [
       "[\"Not Verified | I wanted to write this review so I could give a huge thank you to one of the staff on Lisbon named Jay Ramphul. She went above and beyond and really helped me in an urgent situation. I had boarded my flight with 20 minutes before take off when I realized I had left my cell phone in the club lounge. I was not going to get permission to deboard and get back on in time for take off. Jay stepped in and made it happened. She literally ran with me a far distance to retrieve my phone with me and get me back on the plane within minutes of take off. This is true service! I don't know if this review will ever get back to her or her management, but I hope it does. I want to again express my gratitude for her help and kindness in this matter.\",\n",
       " '✅ Trip Verified |  Check in fast and friendly. Security a breeze. Lounge was busy early evening but comfortable and clean. Flight attendants welcoming. Seat a nightmare it was the reverse/forward with a step over from the window seat, who the hell thought that was a good idea?? Meal were OK but all curry based, like curry and I was on a flight to India so. FA was brilliant as the only flyer awake on an overnight flight. Improving since my last BA flight',\n",
       " '✅ Trip Verified |  This is the first time I have seen the new Club World suite. The seat was comfortable but unlike other airlines, BA has crammed as many seats in business class as is humanly possible so the cabin felt cramped. The crew behaved as though we, the passengers, should have been grateful for them turning up for their shift. They looked scruffy in the new uniforms, clearly the dress code policy has been scrapped. I appreciate that appearance is no measure of service quality (in the UK alone) but the service was appalling. The menu lacked choice and the food was presented as if it fell to the floor and was scooped back onto the plate. The bedding was atrocious, an old scraggly blanket and I’ll fitting seat cover. I was cold and asked for an extra blanket which never arrived. There were no drinks coasters (obviously cutbacks) so my drinks kept spilling. I decided to clean up myself as the crew couldn’t be bothered and didn’t pick up on the fact I was using bathroom hand towels to act as drinks coasters to mop up the mess. The aircraft was old (although retrofitted) and had a leak by the galley wall with lots of blue roll in situ to mop up the mess. Not at all a premium service, this felt more like a low cost carrier doing “business”.',\n",
       " '✅ Trip Verified |  Flew business class from Doha to London on 31st March. The service was slow and unfriendly, even one of the male cabin crew working in business class asked the female cabin crew who was looking after the area where I was in to smile. I ordered waffles for breakfast and they looked like they’d fallen off the plate and had been thrown back on (see photo). The plate that the waffles were served on was so hot that when I moved the plate I burnt my finger. I wasn’t warned that it was ferociously hot. I was shocked at how bad the food presentation was, but didn’t feel comfortable saying anything to the cabin crew as she wasn’t approachable or friendly. For lunch, the bread roll was so dry and rock hard that I couldn’t cut through the ends. Not sure why the food and service was so bad on this flight as generally BA food is good and is well presented. Also, the Wi-Fi wasn’t working on the flight.',\n",
       " '✅ Trip Verified |  Starting off at Heathrow Terminal 3. Check in was fairly easy, but fast track security was terrible. The area is currently under refurbishment but there are only two scanning machines in the fast track area and at this time only one was in use so the queue was long and very slow moving. I’ve heard mixed things about the BA club lounge, but I was fairly impressed. Food options were fairly varied and tasted really nice. Nice salads as well as pie and veg. Drinks as always in BA lounges are very easy to lay your hands on and cater for most wants. Lounge was a decent size with various seating options and wasn’t very busy at the time I went (Sunday evening). Boarding was well organised and club passengers / higher tiers was boarded quickly and easily. Amenity kit, bottle of water and bedding were waiting at the seat. Welcome drinks were provided fairly quickly after sitting down. Hot towel provided after take off, shortly followed by drink and nuts. As has been regularly said these nuts would be infinitely better if served properly not in a very small packet. Food service on board consisted of a main dinner service which was served 1-2 hrs after take off, then a breakfast meal before landing. Both meals were genuinely delicious. All meats were tender and juicy and very was perfectly cooked. Drinks were provided whenever asked, although crew were too busy serving all passengers to proactively offer top ups. Breakfast was offered to passengers as they woke up, which meant that people ate when they wanted rather than just in order.. almost but not quite like a la carte dining. Crew were friendly and efficient, with some nice personality coming through. This is fairly standard of my experience with BA. In flight entertainment was excellent. Good screen quality. Responsive touch screen. Excellent selection. I did not use the WiFi however it was available on this aircraft and prices are reasonable I think. The seat is generally very comfortable and the storage compartments are convenient and spacious enough. The crew on my aisle side of the plane forgot to unlock all the doors so people had to work out how to do it themselves or periodically request the crew to do it for them. Whilst you can never complain about a fully flat bed, the reverse herringbone layout does make the footwell a bit cramped and also means it’s a lot more comfortable to lie on one side rather than the other (facing away from the door). I did manage a few hours of sleep though so not too bad. Overall a really lovely flight and absolutely holding its own as a decent business class product/service.',\n",
       " 'Not Verified |  We have flown this route with EasyJet regularly for more than twenty years but at the age of 80, boarding at Nice has become so chaotic and wearing l decided to pay the significant extra amount to see if BA was better. The outward flight from Heathrow was not great but acceptable but when l attempted to checkin for the return l discovered that we did not have a booking. At the time l booked l was recovering from a serious illness and assumed that l must have made a mistake. After considerable panic, l booked last minute flights at considerable cost with EasyJet, boarding being the usual shambles. Flying into Gatwick rather than Heathrow the only way to get home was a £120 taxi rather than a £2 bus fare from Heathrow. On arrival home l discovered that I did have an email confirmation of the return flight from BA, so immediately contacted them to complain and ask for financial compensation. In the two weeks since they have sent two apologies for their slow response but nothing else so far. We have elderly friends who say that they now find travelling with British Airways so stressful that they will not travel outside the UK again. This will help the environment but it seems remarkable that the airline industry in the UK has deteriorated to this extent. Unfortunately JAL or Singapore, both of which l have used happily over many years, do not fly within Europe.',\n",
       " '✅ Trip Verified | A last minute business trip to HND, a route I regularly fly. Overall a good experience. In the new club world offering which personally I like and find to have plenty of room although some say it is a little tight. I arrived LHR in plenty of time and used the first class wing as I am eligible due to exec club status. Great to see the security lane reopen and efficient due to the new \"no need to empty your bag\" scanners. Additionally the first class lounge was not as busy as usual so a nice experience. Boarding was from gate A10 by bus, probably the least enjoyable part of the journey. It\\'s not uncommon for this flight to use A10 which baffles me as such a large number of passengers need to take the not so scenic journey past all the A gates, B gates and finally C gates before arriving at the aircraft. Even passing a few empty airbridge gates on route. Boarding was not well organised with no real announcements. They started checking in peoples bags and pre-boarding with no announcement which then confused people who thought it was general boarding and started moving forward. Group 1 was then opened before I got to the front on the queue Group 2 & 3 began boarding from a separate line and there were too many people waiting to board the buss so not enough room. Once onboard the aircraft was clean and I like the IFE offering in the new club world. Unfortunately I didn\\'t find the crew particularly welcoming or engaging. I know its a lot of passengers and a long flight but there was not much smiling or customer service. At one point I had to walk through the galley to the toilet, on return 3 crew members were talking, one in particular was blocking my way and after looking at me proceeded to continue and didn\\'t offer to et me past, eventually the inflight manager moved him to one side so I can pass. On another occasion I went to request a drink and was effectively scowled at in a look that felt like \"what do you want and why are you disturbing me\". Other than those points a generally good flight and on time arrival to HND.',\n",
       " \"✅ Trip Verified |\\xa0 \\xa0Overall I would say disappointing. Due to BA status I had lounge access, on the small side and very busy. The aircraft used a remote gate, boarding was not well organised by group status as it should be but I did manage to make my way onto the first bus of 3. On arrival at the aircraft the plane was still being prepared so we had to wait on the bus. After 10 minutes or so everyone was becoming a little irritable. As it turns out the inbound flight had a number of complex wheelchair passengers that needed assistance which was delayed and took a long amount of time when it did arrive. After 35 minutes waiting on the bus we finally boarded the aircraft. The Captain apologised for the delay, no mention from the crew. Seat was standard Euro Traveller, the service was okay but the crew were not particularly engaging. When I tried to order a coffee due to the seatbelt sign being on as a result of some minor turbulence I was told it wouldn't be possible. As the crew member reached two rows behind be the seatbelt sign was turned off but they didn't come back to ask if I would still like a coffee. Overall we arrived into LHR 1 hour late. No tug to move the aircraft in Lisbon and had to wait for the gate in LHR. Disappointing but not the worst flight I have had.\",\n",
       " 'Not Verified |  LHR to Delhi in Business. Exceptional flight. Stylish and quirky B Gates lounge with interesting, modern and eclectic food plus Whispering Angel bar. Food on board was delicious and well presented. Friendly, fun, relaxed crew with a blend of deference, self-deprecation and over familiarity. Been flying BA for 35 years in various classes, and this was probably the best. Great job BA!',\n",
       " 'Not Verified |  Efficient and Smooth flight from start to finish. Cabin crew attentive and bubbly. Very clean aircraft. Mcvities snacks a nice touch, and even the coffee in a bag was unexpectedly nice. Everything to praise, and nothing to complain about!']"
      ]
     },
     "execution_count": 6,
     "metadata": {},
     "output_type": "execute_result"
    }
   ],
   "source": [
    "reviews = [review.text.strip() for review in soup.find_all('div', class_ = 'text_content')]\n",
    "reviews"
   ]
  },
  {
   "cell_type": "code",
   "execution_count": 7,
   "id": "dafb6ab4",
   "metadata": {},
   "outputs": [],
   "source": [
    "pages = 10\n",
    "pagesize = 100\n",
    "\n",
    "main_url = 'https://www.airlinequality.com/airline-reviews/british-airways'\n",
    "\n",
    "reviews = []\n",
    "\n",
    "for i in range(1, pages+1):\n",
    "    url = f'{main_url}/page/{i}/?sortby=post_date%3ADesc&pagesize={pagesize}'\n",
    "    page = requests.get(url)\n",
    "    soup = BeautifulSoup(page.text, 'lxml')\n",
    "    page_reviews = soup.find_all('div', class_ = 'text_content')\n",
    "    reviews.extend([review.text.strip() for review in page_reviews])"
   ]
  },
  {
   "cell_type": "code",
   "execution_count": 8,
   "id": "cbc1f63c",
   "metadata": {},
   "outputs": [],
   "source": [
    "df=pd.DataFrame()\n",
    "df['reviews']=reviews"
   ]
  },
  {
   "cell_type": "code",
   "execution_count": 9,
   "id": "ba1378e6",
   "metadata": {
    "scrolled": false
   },
   "outputs": [
    {
     "data": {
      "text/html": [
       "<div>\n",
       "<style scoped>\n",
       "    .dataframe tbody tr th:only-of-type {\n",
       "        vertical-align: middle;\n",
       "    }\n",
       "\n",
       "    .dataframe tbody tr th {\n",
       "        vertical-align: top;\n",
       "    }\n",
       "\n",
       "    .dataframe thead th {\n",
       "        text-align: right;\n",
       "    }\n",
       "</style>\n",
       "<table border=\"1\" class=\"dataframe\">\n",
       "  <thead>\n",
       "    <tr style=\"text-align: right;\">\n",
       "      <th></th>\n",
       "      <th>reviews</th>\n",
       "    </tr>\n",
       "  </thead>\n",
       "  <tbody>\n",
       "    <tr>\n",
       "      <th>0</th>\n",
       "      <td>Not Verified | I wanted to write this review s...</td>\n",
       "    </tr>\n",
       "    <tr>\n",
       "      <th>1</th>\n",
       "      <td>✅ Trip Verified |  Check in fast and friendly....</td>\n",
       "    </tr>\n",
       "    <tr>\n",
       "      <th>2</th>\n",
       "      <td>✅ Trip Verified |  This is the first time I ha...</td>\n",
       "    </tr>\n",
       "    <tr>\n",
       "      <th>3</th>\n",
       "      <td>✅ Trip Verified |  Flew business class from Do...</td>\n",
       "    </tr>\n",
       "    <tr>\n",
       "      <th>4</th>\n",
       "      <td>✅ Trip Verified |  Starting off at Heathrow Te...</td>\n",
       "    </tr>\n",
       "    <tr>\n",
       "      <th>...</th>\n",
       "      <td>...</td>\n",
       "    </tr>\n",
       "    <tr>\n",
       "      <th>995</th>\n",
       "      <td>✅ Trip Verified |  London to Doha. Similar to ...</td>\n",
       "    </tr>\n",
       "    <tr>\n",
       "      <th>996</th>\n",
       "      <td>✅ Trip Verified |  London Heathrow to Houston....</td>\n",
       "    </tr>\n",
       "    <tr>\n",
       "      <th>997</th>\n",
       "      <td>Not Verified |  Larnaca to London. This A320 i...</td>\n",
       "    </tr>\n",
       "    <tr>\n",
       "      <th>998</th>\n",
       "      <td>✅ Trip Verified |  I booked my BA flight from ...</td>\n",
       "    </tr>\n",
       "    <tr>\n",
       "      <th>999</th>\n",
       "      <td>✅ Trip Verified |  The booking process was eas...</td>\n",
       "    </tr>\n",
       "  </tbody>\n",
       "</table>\n",
       "<p>1000 rows × 1 columns</p>\n",
       "</div>"
      ],
      "text/plain": [
       "                                               reviews\n",
       "0    Not Verified | I wanted to write this review s...\n",
       "1    ✅ Trip Verified |  Check in fast and friendly....\n",
       "2    ✅ Trip Verified |  This is the first time I ha...\n",
       "3    ✅ Trip Verified |  Flew business class from Do...\n",
       "4    ✅ Trip Verified |  Starting off at Heathrow Te...\n",
       "..                                                 ...\n",
       "995  ✅ Trip Verified |  London to Doha. Similar to ...\n",
       "996  ✅ Trip Verified |  London Heathrow to Houston....\n",
       "997  Not Verified |  Larnaca to London. This A320 i...\n",
       "998  ✅ Trip Verified |  I booked my BA flight from ...\n",
       "999  ✅ Trip Verified |  The booking process was eas...\n",
       "\n",
       "[1000 rows x 1 columns]"
      ]
     },
     "execution_count": 9,
     "metadata": {},
     "output_type": "execute_result"
    }
   ],
   "source": [
    "df"
   ]
  },
  {
   "cell_type": "code",
   "execution_count": 10,
   "id": "492a41bf",
   "metadata": {
    "scrolled": false
   },
   "outputs": [
    {
     "data": {
      "text/html": [
       "<div>\n",
       "<style scoped>\n",
       "    .dataframe tbody tr th:only-of-type {\n",
       "        vertical-align: middle;\n",
       "    }\n",
       "\n",
       "    .dataframe tbody tr th {\n",
       "        vertical-align: top;\n",
       "    }\n",
       "\n",
       "    .dataframe thead th {\n",
       "        text-align: right;\n",
       "    }\n",
       "</style>\n",
       "<table border=\"1\" class=\"dataframe\">\n",
       "  <thead>\n",
       "    <tr style=\"text-align: right;\">\n",
       "      <th></th>\n",
       "      <th>reviews</th>\n",
       "      <th>verified</th>\n",
       "    </tr>\n",
       "  </thead>\n",
       "  <tbody>\n",
       "    <tr>\n",
       "      <th>0</th>\n",
       "      <td>I wanted to write this review so I could give...</td>\n",
       "      <td>Not Verified</td>\n",
       "    </tr>\n",
       "    <tr>\n",
       "      <th>1</th>\n",
       "      <td>Check in fast and friendly. Security a breez...</td>\n",
       "      <td>✅ Trip Verified</td>\n",
       "    </tr>\n",
       "    <tr>\n",
       "      <th>2</th>\n",
       "      <td>This is the first time I have seen the new C...</td>\n",
       "      <td>✅ Trip Verified</td>\n",
       "    </tr>\n",
       "    <tr>\n",
       "      <th>3</th>\n",
       "      <td>Flew business class from Doha to London on 3...</td>\n",
       "      <td>✅ Trip Verified</td>\n",
       "    </tr>\n",
       "    <tr>\n",
       "      <th>4</th>\n",
       "      <td>Starting off at Heathrow Terminal 3. Check i...</td>\n",
       "      <td>✅ Trip Verified</td>\n",
       "    </tr>\n",
       "    <tr>\n",
       "      <th>...</th>\n",
       "      <td>...</td>\n",
       "      <td>...</td>\n",
       "    </tr>\n",
       "    <tr>\n",
       "      <th>995</th>\n",
       "      <td>London to Doha. Similar to our outbound flig...</td>\n",
       "      <td>✅ Trip Verified</td>\n",
       "    </tr>\n",
       "    <tr>\n",
       "      <th>996</th>\n",
       "      <td>London Heathrow to Houston. Despite sitting ...</td>\n",
       "      <td>✅ Trip Verified</td>\n",
       "    </tr>\n",
       "    <tr>\n",
       "      <th>997</th>\n",
       "      <td>Larnaca to London. This A320 is totally unsu...</td>\n",
       "      <td>Not Verified</td>\n",
       "    </tr>\n",
       "    <tr>\n",
       "      <th>998</th>\n",
       "      <td>I booked my BA flight from Zurich to London ...</td>\n",
       "      <td>✅ Trip Verified</td>\n",
       "    </tr>\n",
       "    <tr>\n",
       "      <th>999</th>\n",
       "      <td>The booking process was easy enough but they...</td>\n",
       "      <td>✅ Trip Verified</td>\n",
       "    </tr>\n",
       "  </tbody>\n",
       "</table>\n",
       "<p>1000 rows × 2 columns</p>\n",
       "</div>"
      ],
      "text/plain": [
       "                                               reviews          verified\n",
       "0     I wanted to write this review so I could give...     Not Verified \n",
       "1      Check in fast and friendly. Security a breez...  ✅ Trip Verified \n",
       "2      This is the first time I have seen the new C...  ✅ Trip Verified \n",
       "3      Flew business class from Doha to London on 3...  ✅ Trip Verified \n",
       "4      Starting off at Heathrow Terminal 3. Check i...  ✅ Trip Verified \n",
       "..                                                 ...               ...\n",
       "995    London to Doha. Similar to our outbound flig...  ✅ Trip Verified \n",
       "996    London Heathrow to Houston. Despite sitting ...  ✅ Trip Verified \n",
       "997    Larnaca to London. This A320 is totally unsu...     Not Verified \n",
       "998    I booked my BA flight from Zurich to London ...  ✅ Trip Verified \n",
       "999    The booking process was easy enough but they...  ✅ Trip Verified \n",
       "\n",
       "[1000 rows x 2 columns]"
      ]
     },
     "execution_count": 10,
     "metadata": {},
     "output_type": "execute_result"
    }
   ],
   "source": [
    "df[['verified','reviews']]= df.reviews.str.split('|',expand=True)\n",
    "df"
   ]
  },
  {
   "cell_type": "code",
   "execution_count": 11,
   "id": "f85c8c16",
   "metadata": {
    "scrolled": true
   },
   "outputs": [
    {
     "name": "stdout",
     "output_type": "stream",
     "text": [
      "<class 'pandas.core.frame.DataFrame'>\n",
      "RangeIndex: 1000 entries, 0 to 999\n",
      "Data columns (total 2 columns):\n",
      " #   Column    Non-Null Count  Dtype \n",
      "---  ------    --------------  ----- \n",
      " 0   reviews   1000 non-null   object\n",
      " 1   verified  1000 non-null   object\n",
      "dtypes: object(2)\n",
      "memory usage: 15.8+ KB\n"
     ]
    }
   ],
   "source": [
    "df.info()"
   ]
  },
  {
   "cell_type": "code",
   "execution_count": 12,
   "id": "8c3670a9",
   "metadata": {
    "scrolled": true
   },
   "outputs": [
    {
     "name": "stdout",
     "output_type": "stream",
     "text": [
      "<class 'pandas.core.frame.DataFrame'>\n",
      "RangeIndex: 1000 entries, 0 to 999\n",
      "Data columns (total 2 columns):\n",
      " #   Column    Non-Null Count  Dtype \n",
      "---  ------    --------------  ----- \n",
      " 0   reviews   1000 non-null   object\n",
      " 1   verified  1000 non-null   object\n",
      "dtypes: object(2)\n",
      "memory usage: 15.8+ KB\n"
     ]
    }
   ],
   "source": [
    "# Remove green ticks and convert 'verified' column to string data type\n",
    "df['verified'] = df['verified'].str.replace('✅ Trip Verified', 'Verified').str.replace('Not Verified', 'Not Verified').astype(str)\n",
    "\n",
    "# Display the DataFrame after updating the 'verified' column\n",
    "df.info()"
   ]
  },
  {
   "cell_type": "code",
   "execution_count": 13,
   "id": "2fc26bd3",
   "metadata": {
    "scrolled": true
   },
   "outputs": [
    {
     "data": {
      "text/html": [
       "<div>\n",
       "<style scoped>\n",
       "    .dataframe tbody tr th:only-of-type {\n",
       "        vertical-align: middle;\n",
       "    }\n",
       "\n",
       "    .dataframe tbody tr th {\n",
       "        vertical-align: top;\n",
       "    }\n",
       "\n",
       "    .dataframe thead th {\n",
       "        text-align: right;\n",
       "    }\n",
       "</style>\n",
       "<table border=\"1\" class=\"dataframe\">\n",
       "  <thead>\n",
       "    <tr style=\"text-align: right;\">\n",
       "      <th></th>\n",
       "      <th>reviews</th>\n",
       "      <th>verified</th>\n",
       "    </tr>\n",
       "  </thead>\n",
       "  <tbody>\n",
       "    <tr>\n",
       "      <th>0</th>\n",
       "      <td>I wanted to write this review so I could give...</td>\n",
       "      <td>0</td>\n",
       "    </tr>\n",
       "    <tr>\n",
       "      <th>1</th>\n",
       "      <td>Check in fast and friendly. Security a breez...</td>\n",
       "      <td>1</td>\n",
       "    </tr>\n",
       "    <tr>\n",
       "      <th>2</th>\n",
       "      <td>This is the first time I have seen the new C...</td>\n",
       "      <td>1</td>\n",
       "    </tr>\n",
       "    <tr>\n",
       "      <th>3</th>\n",
       "      <td>Flew business class from Doha to London on 3...</td>\n",
       "      <td>1</td>\n",
       "    </tr>\n",
       "    <tr>\n",
       "      <th>4</th>\n",
       "      <td>Starting off at Heathrow Terminal 3. Check i...</td>\n",
       "      <td>1</td>\n",
       "    </tr>\n",
       "  </tbody>\n",
       "</table>\n",
       "</div>"
      ],
      "text/plain": [
       "                                             reviews verified\n",
       "0   I wanted to write this review so I could give...        0\n",
       "1    Check in fast and friendly. Security a breez...        1\n",
       "2    This is the first time I have seen the new C...        1\n",
       "3    Flew business class from Doha to London on 3...        1\n",
       "4    Starting off at Heathrow Terminal 3. Check i...        1"
      ]
     },
     "execution_count": 13,
     "metadata": {},
     "output_type": "execute_result"
    }
   ],
   "source": [
    "for i in range(len(df)):\n",
    "    if df['verified'].str.strip()[i] == 'Not Verified':\n",
    "        df['verified'][i]=0\n",
    "    else:\n",
    "        df['verified'][i]=1\n",
    "        \n",
    "df.head()"
   ]
  },
  {
   "cell_type": "code",
   "execution_count": 14,
   "id": "4e9aeefd",
   "metadata": {
    "scrolled": true
   },
   "outputs": [
    {
     "name": "stdout",
     "output_type": "stream",
     "text": [
      "<class 'pandas.core.frame.DataFrame'>\n",
      "RangeIndex: 1000 entries, 0 to 999\n",
      "Data columns (total 2 columns):\n",
      " #   Column    Non-Null Count  Dtype \n",
      "---  ------    --------------  ----- \n",
      " 0   reviews   1000 non-null   object\n",
      " 1   verified  1000 non-null   object\n",
      "dtypes: object(2)\n",
      "memory usage: 15.8+ KB\n"
     ]
    }
   ],
   "source": [
    "df.info()"
   ]
  },
  {
   "cell_type": "code",
   "execution_count": 15,
   "id": "98fbe311",
   "metadata": {
    "scrolled": true
   },
   "outputs": [
    {
     "name": "stdout",
     "output_type": "stream",
     "text": [
      "<class 'pandas.core.frame.DataFrame'>\n",
      "RangeIndex: 1000 entries, 0 to 999\n",
      "Data columns (total 2 columns):\n",
      " #   Column    Non-Null Count  Dtype \n",
      "---  ------    --------------  ----- \n",
      " 0   reviews   1000 non-null   object\n",
      " 1   verified  1000 non-null   int32 \n",
      "dtypes: int32(1), object(1)\n",
      "memory usage: 11.8+ KB\n"
     ]
    }
   ],
   "source": [
    "# Convert 'verified' column to numeric type\n",
    "df['verified'] = df['verified'].astype(int)\n",
    "\n",
    "# Display the DataFrame after updating the 'verified' column\n",
    "df.info()"
   ]
  },
  {
   "cell_type": "code",
   "execution_count": 16,
   "id": "ebec8729",
   "metadata": {
    "scrolled": true
   },
   "outputs": [
    {
     "data": {
      "text/plain": [
       "1    0.763\n",
       "0    0.237\n",
       "Name: verified, dtype: float64"
      ]
     },
     "execution_count": 16,
     "metadata": {},
     "output_type": "execute_result"
    }
   ],
   "source": [
    "df['verified'].value_counts(normalize=True)"
   ]
  },
  {
   "cell_type": "code",
   "execution_count": 17,
   "id": "df60f746",
   "metadata": {},
   "outputs": [
    {
     "data": {
      "text/html": [
       "<div>\n",
       "<style scoped>\n",
       "    .dataframe tbody tr th:only-of-type {\n",
       "        vertical-align: middle;\n",
       "    }\n",
       "\n",
       "    .dataframe tbody tr th {\n",
       "        vertical-align: top;\n",
       "    }\n",
       "\n",
       "    .dataframe thead th {\n",
       "        text-align: right;\n",
       "    }\n",
       "</style>\n",
       "<table border=\"1\" class=\"dataframe\">\n",
       "  <thead>\n",
       "    <tr style=\"text-align: right;\">\n",
       "      <th></th>\n",
       "      <th>reviews</th>\n",
       "    </tr>\n",
       "  </thead>\n",
       "  <tbody>\n",
       "    <tr>\n",
       "      <th>0</th>\n",
       "      <td>Check in fast and friendly. Security a breez...</td>\n",
       "    </tr>\n",
       "    <tr>\n",
       "      <th>1</th>\n",
       "      <td>This is the first time I have seen the new C...</td>\n",
       "    </tr>\n",
       "    <tr>\n",
       "      <th>2</th>\n",
       "      <td>Flew business class from Doha to London on 3...</td>\n",
       "    </tr>\n",
       "    <tr>\n",
       "      <th>3</th>\n",
       "      <td>Starting off at Heathrow Terminal 3. Check i...</td>\n",
       "    </tr>\n",
       "    <tr>\n",
       "      <th>4</th>\n",
       "      <td>A last minute business trip to HND, a route I...</td>\n",
       "    </tr>\n",
       "    <tr>\n",
       "      <th>...</th>\n",
       "      <td>...</td>\n",
       "    </tr>\n",
       "    <tr>\n",
       "      <th>758</th>\n",
       "      <td>London to Boston. BA replaced A380 with a ve...</td>\n",
       "    </tr>\n",
       "    <tr>\n",
       "      <th>759</th>\n",
       "      <td>London to Doha. Similar to our outbound flig...</td>\n",
       "    </tr>\n",
       "    <tr>\n",
       "      <th>760</th>\n",
       "      <td>London Heathrow to Houston. Despite sitting ...</td>\n",
       "    </tr>\n",
       "    <tr>\n",
       "      <th>761</th>\n",
       "      <td>I booked my BA flight from Zurich to London ...</td>\n",
       "    </tr>\n",
       "    <tr>\n",
       "      <th>762</th>\n",
       "      <td>The booking process was easy enough but they...</td>\n",
       "    </tr>\n",
       "  </tbody>\n",
       "</table>\n",
       "<p>763 rows × 1 columns</p>\n",
       "</div>"
      ],
      "text/plain": [
       "                                               reviews\n",
       "0      Check in fast and friendly. Security a breez...\n",
       "1      This is the first time I have seen the new C...\n",
       "2      Flew business class from Doha to London on 3...\n",
       "3      Starting off at Heathrow Terminal 3. Check i...\n",
       "4     A last minute business trip to HND, a route I...\n",
       "..                                                 ...\n",
       "758    London to Boston. BA replaced A380 with a ve...\n",
       "759    London to Doha. Similar to our outbound flig...\n",
       "760    London Heathrow to Houston. Despite sitting ...\n",
       "761    I booked my BA flight from Zurich to London ...\n",
       "762    The booking process was easy enough but they...\n",
       "\n",
       "[763 rows x 1 columns]"
      ]
     },
     "execution_count": 17,
     "metadata": {},
     "output_type": "execute_result"
    }
   ],
   "source": [
    "df_verified = df[df['verified']==1].reset_index(drop=True)\n",
    "df_verified = df_verified[['reviews']]\n",
    "df_verified"
   ]
  },
  {
   "cell_type": "code",
   "execution_count": 18,
   "id": "580a9dc2",
   "metadata": {},
   "outputs": [
    {
     "data": {
      "text/html": [
       "<div>\n",
       "<style scoped>\n",
       "    .dataframe tbody tr th:only-of-type {\n",
       "        vertical-align: middle;\n",
       "    }\n",
       "\n",
       "    .dataframe tbody tr th {\n",
       "        vertical-align: top;\n",
       "    }\n",
       "\n",
       "    .dataframe thead th {\n",
       "        text-align: right;\n",
       "    }\n",
       "</style>\n",
       "<table border=\"1\" class=\"dataframe\">\n",
       "  <thead>\n",
       "    <tr style=\"text-align: right;\">\n",
       "      <th></th>\n",
       "      <th>reviews</th>\n",
       "    </tr>\n",
       "  </thead>\n",
       "  <tbody>\n",
       "    <tr>\n",
       "      <th>0</th>\n",
       "      <td>I wanted to write this review so I could give...</td>\n",
       "    </tr>\n",
       "    <tr>\n",
       "      <th>1</th>\n",
       "      <td>We have flown this route with EasyJet regula...</td>\n",
       "    </tr>\n",
       "    <tr>\n",
       "      <th>2</th>\n",
       "      <td>LHR to Delhi in Business. Exceptional flight...</td>\n",
       "    </tr>\n",
       "    <tr>\n",
       "      <th>3</th>\n",
       "      <td>Efficient and Smooth flight from start to fi...</td>\n",
       "    </tr>\n",
       "    <tr>\n",
       "      <th>4</th>\n",
       "      <td>The flight was comfortable enough but with a...</td>\n",
       "    </tr>\n",
       "    <tr>\n",
       "      <th>...</th>\n",
       "      <td>...</td>\n",
       "    </tr>\n",
       "    <tr>\n",
       "      <th>232</th>\n",
       "      <td>London to Sydney via Singapore. Checked in w...</td>\n",
       "    </tr>\n",
       "    <tr>\n",
       "      <th>233</th>\n",
       "      <td>London to Seattle. My husband and I have use...</td>\n",
       "    </tr>\n",
       "    <tr>\n",
       "      <th>234</th>\n",
       "      <td>\\r\\nMiami to London Heathrow with British Ai...</td>\n",
       "    </tr>\n",
       "    <tr>\n",
       "      <th>235</th>\n",
       "      <td>Madrid to London. We paid for business class...</td>\n",
       "    </tr>\n",
       "    <tr>\n",
       "      <th>236</th>\n",
       "      <td>Larnaca to London. This A320 is totally unsu...</td>\n",
       "    </tr>\n",
       "  </tbody>\n",
       "</table>\n",
       "<p>237 rows × 1 columns</p>\n",
       "</div>"
      ],
      "text/plain": [
       "                                               reviews\n",
       "0     I wanted to write this review so I could give...\n",
       "1      We have flown this route with EasyJet regula...\n",
       "2      LHR to Delhi in Business. Exceptional flight...\n",
       "3      Efficient and Smooth flight from start to fi...\n",
       "4      The flight was comfortable enough but with a...\n",
       "..                                                 ...\n",
       "232    London to Sydney via Singapore. Checked in w...\n",
       "233    London to Seattle. My husband and I have use...\n",
       "234    \\r\\nMiami to London Heathrow with British Ai...\n",
       "235    Madrid to London. We paid for business class...\n",
       "236    Larnaca to London. This A320 is totally unsu...\n",
       "\n",
       "[237 rows x 1 columns]"
      ]
     },
     "execution_count": 18,
     "metadata": {},
     "output_type": "execute_result"
    }
   ],
   "source": [
    "df_notverified = df[df['verified']==0].reset_index(drop=True)\n",
    "df_notverified = df_notverified[['reviews']]\n",
    "df_notverified"
   ]
  }
 ],
 "metadata": {
  "kernelspec": {
   "display_name": "Python 3 (ipykernel)",
   "language": "python",
   "name": "python3"
  },
  "language_info": {
   "codemirror_mode": {
    "name": "ipython",
    "version": 3
   },
   "file_extension": ".py",
   "mimetype": "text/x-python",
   "name": "python",
   "nbconvert_exporter": "python",
   "pygments_lexer": "ipython3",
   "version": "3.10.9"
  }
 },
 "nbformat": 4,
 "nbformat_minor": 5
}
